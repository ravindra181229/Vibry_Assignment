{
 "cells": [
  {
   "cell_type": "markdown",
   "metadata": {},
   "source": [
    "### Python Assignment"
   ]
  },
  {
   "cell_type": "markdown",
   "metadata": {},
   "source": [
    "1. Multiplication and sum of two numbers\n",
    "    - eg\n",
    "    \n",
    "            input:\n",
    "                num1 = 20\n",
    "                num2 = 30\n",
    "            Output:\n",
    "                The Multiplication is 600\n",
    "                The Sum is 50\n",
    "              "
   ]
  },
  {
   "cell_type": "markdown",
   "metadata": {},
   "source": [
    "2. Print the sum of the current number and the previous number\n",
    "    - eg\n",
    "    \n",
    "         Output:\n",
    "                \n",
    "            Printing current and previous number sum in a range(10)\n",
    "            Current Number 0 Previous Number  0  Sum:  0\n",
    "            Current Number 1 Previous Number  0  Sum:  1\n",
    "            Current Number 2 Previous Number  1  Sum:  3\n",
    "            Current Number 3 Previous Number  2  Sum:  5\n",
    "            Current Number 4 Previous Number  3  Sum:  7\n"
   ]
  },
  {
   "cell_type": "markdown",
   "metadata": {},
   "source": [
    "3. Print characters from a string that are present at an even index number\n",
    "    - eg\n",
    "    \n",
    "            str = \"pynative\" so you should display ‘p’, ‘n’, ‘t’, ‘v’."
   ]
  },
  {
   "cell_type": "markdown",
   "metadata": {},
   "source": [
    "4. Remove first n characters from a string\n",
    "- eg\n",
    "    \n",
    "        remove_chars(\"pynative\", 4) so output must be tive. \n",
    "\n",
    "        remove_chars(\"pynative\", 2) so output must be native."
   ]
  },
  {
   "cell_type": "markdown",
   "metadata": {},
   "source": [
    "5. Check if the first and last number of a list is the same\n",
    "- eg \n",
    "    \n",
    "        Given list: [10, 20, 30, 40, 10]\n",
    "            result is True\n",
    "\n",
    "        Given list: [75, 65, 35, 75, 30]\n",
    "            result is False"
   ]
  },
  {
   "cell_type": "markdown",
   "metadata": {},
   "source": [
    "6. Display numbers divisible by 5 from a list\n",
    "- eg \n",
    "        \n",
    "        Given list is  [10, 20, 33, 46, 55]\n",
    "        Divisible by 5\n",
    "                10\n",
    "                20\n",
    "                55"
   ]
  },
  {
   "cell_type": "markdown",
   "metadata": {},
   "source": [
    "7. Return the count of a given substring from a string\n",
    "- eg \n",
    "    \n",
    "        str_x = \"Emma is good developer. Emma is a writer\"\n",
    "        str_y = \"Emma\"\n",
    "        \n",
    "        op = Emma appeared 2 times"
   ]
  },
  {
   "cell_type": "markdown",
   "metadata": {},
   "source": [
    "8. Print the following pattern\n",
    "            \n",
    "            1 \n",
    "            2 2 \n",
    "            3 3 3 \n",
    "            4 4 4 4 \n",
    "            5 5 5 5 5"
   ]
  },
  {
   "cell_type": "markdown",
   "metadata": {},
   "source": [
    "9. Check Palindrome Number\n",
    "\n",
    "- eg\n",
    "        \n",
    "        Given number : 191\n",
    "\n",
    "        output: \n",
    "            Given number is palindrome.\n",
    "        \n",
    "        \n",
    "        Given number : 191\n",
    "\n",
    "        output:\n",
    "            Given number is not a palindrome.\n",
    "        "
   ]
  },
  {
   "cell_type": "markdown",
   "metadata": {},
   "source": [
    "10. Print multiplication table form 1 to 10\n"
   ]
  }
 ],
 "metadata": {
  "kernelspec": {
   "display_name": "Python 3",
   "language": "python",
   "name": "python3"
  },
  "language_info": {
   "codemirror_mode": {
    "name": "ipython",
    "version": 3
   },
   "file_extension": ".py",
   "mimetype": "text/x-python",
   "name": "python",
   "nbconvert_exporter": "python",
   "pygments_lexer": "ipython3",
   "version": "3.8.5"
  }
 },
 "nbformat": 4,
 "nbformat_minor": 4
}
