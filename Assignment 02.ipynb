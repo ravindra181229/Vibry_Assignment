{
 "cells": [
  {
   "cell_type": "markdown",
   "metadata": {},
   "source": [
    "### Assignment 2"
   ]
  },
  {
   "cell_type": "markdown",
   "metadata": {},
   "source": [
    "#### 1.  Write a program  to get power of value\n",
    "\n",
    "Input:\n",
    "\n",
    "    base = 2\n",
    "    exp = 5\n",
    "    \n",
    "Output:\n",
    "\n",
    "    2 to the power of 5: 32 \n"
   ]
  },
  {
   "cell_type": "markdown",
   "metadata": {},
   "source": [
    "##### 2. Write a program to create a new string made of an input string’s first, middle, and last character.\n",
    "\n",
    "input:\n",
    "    \n",
    "     Kumar\n",
    "     \n",
    "output:\n",
    "     \n",
    "     Kmr"
   ]
  },
  {
   "cell_type": "markdown",
   "metadata": {},
   "source": [
    "#### 3. Given two strings, s1 and s2. Write a program to create a new string s3 by appending s2 in the middle of s1.\n",
    "\n",
    "input:\n",
    "\n",
    "    s1 = \"Ault\"\n",
    "    s2 = \"Kelly\"\n",
    "    \n",
    "output:\n",
    "\n",
    "    AuKellylt"
   ]
  },
  {
   "cell_type": "markdown",
   "metadata": {},
   "source": [
    "#### 4. Given string contains a combination of the lower and upper case letters. Write a program to arrange the characters of a string so that all lowercase letters should come first.\n",
    "\n",
    "Input:\n",
    "\n",
    "    str1 = PyNaTive\n",
    "Output:\n",
    "\n",
    "    yaivePNT"
   ]
  },
  {
   "cell_type": "code",
   "execution_count": null,
   "metadata": {},
   "outputs": [],
   "source": []
  },
  {
   "cell_type": "markdown",
   "metadata": {},
   "source": [
    "#### 5. Count all letters, digits, and special symbols from a given string\n",
    "\n",
    "Input:\n",
    "\n",
    "    str1 = \"P@#yn26at^&i5ve\"\n",
    "\n",
    "Output:\n",
    "\n",
    "    Total counts of chars, digits, and symbols \n",
    "\n",
    "    Chars = 8 \n",
    "    Digits = 3 \n",
    "    Symbol = 4"
   ]
  },
  {
   "cell_type": "markdown",
   "metadata": {},
   "source": [
    "#### 6. Given two strings, s1 and s2. Write a program to create a new string s3 made of the first char of s1, then the last char of s2, Next, the second char of s1 and second last char of s2, and so on. Any leftover chars go at the end of the result.\n",
    "\n",
    "Input:\n",
    "\n",
    "    s1 = \"Abc\"\n",
    "    s2 = \"Xyz\"\n",
    "Output:\n",
    "\n",
    "    AzbycX"
   ]
  },
  {
   "cell_type": "markdown",
   "metadata": {},
   "source": [
    "#### 7. Write a program to check if two strings are balanced. For example, strings s1 and s2 are balanced if all the characters in the s1 are present in s2. The character’s position doesn’t matter.\n",
    "\n",
    "Given:\n",
    "\n",
    "Case 1:\n",
    "\n",
    "    s1 = \"Yn\"\n",
    "    s2 = \"PYnative\"\n",
    "Expected Output:\n",
    "\n",
    "    True\n",
    "Case 2:\n",
    "\n",
    "    s1 = \"Ynf\"\n",
    "    s2 = \"PYnative\"\n",
    "Expected Output:\n",
    "\n",
    "    False"
   ]
  },
  {
   "cell_type": "markdown",
   "metadata": {},
   "source": [
    "#### 8. Write a program to find all occurrences of “USA” in a given string ignoring the case.\n",
    "\n",
    "Given:\n",
    "\n",
    "    str1 = \"Welcome to USA. usa awesome, isn't it?\"\n",
    "Expected Outcome:\n",
    "\n",
    "    The USA count is: 2"
   ]
  },
  {
   "cell_type": "markdown",
   "metadata": {},
   "source": [
    "#### 9. Given a string s1, write a program to return the sum and average of the digits that appear in the string, ignoring all other characters.\n",
    "\n",
    "Given:\n",
    "\n",
    "    str1 = \"PYnative29@#8496\"\n",
    "Expected Outcome:\n",
    "\n",
    "    Sum is: 38 Average is  6.333333333333333"
   ]
  },
  {
   "cell_type": "markdown",
   "metadata": {},
   "source": [
    "#### 10. Write a program to count occurrences of all characters within a string\n",
    "\n",
    "Given:\n",
    "\n",
    "    str1 = \"Apple\"\n",
    "Expected Outcome:\n",
    "\n",
    "    {'A': 1, 'p': 2, 'l': 1, 'e': 1}"
   ]
  },
  {
   "cell_type": "code",
   "execution_count": null,
   "metadata": {},
   "outputs": [],
   "source": []
  }
 ],
 "metadata": {
  "kernelspec": {
   "display_name": "Python 3",
   "language": "python",
   "name": "python3"
  },
  "language_info": {
   "codemirror_mode": {
    "name": "ipython",
    "version": 3
   },
   "file_extension": ".py",
   "mimetype": "text/x-python",
   "name": "python",
   "nbconvert_exporter": "python",
   "pygments_lexer": "ipython3",
   "version": "3.8.5"
  }
 },
 "nbformat": 4,
 "nbformat_minor": 4
}
