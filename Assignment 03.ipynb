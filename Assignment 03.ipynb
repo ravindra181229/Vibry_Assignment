{
 "cells": [
  {
   "cell_type": "markdown",
   "metadata": {},
   "source": [
    "### Assignment 3"
   ]
  },
  {
   "cell_type": "markdown",
   "metadata": {},
   "source": [
    "#### 1. Concatenate two lists index-wise\n",
    "\n",
    "Write a program to add two lists index-wise. Create a new list that contains the 0th index item from both the list, then the 1st index item, and so on till the last element. any leftover items will get added at the end of the new list.\n",
    "\n",
    "Given:\n",
    "\n",
    "    list1 = [\"M\", \"na\", \"i\", \"Ke\"]\n",
    "    list2 = [\"y\", \"me\", \"s\", \"lly\"]\n",
    "    \n",
    "Expected output:\n",
    "\n",
    "    ['My', 'name', 'is', 'Kelly']"
   ]
  },
  {
   "cell_type": "markdown",
   "metadata": {},
   "source": [
    "#### 2. Concatenate two lists in the following order\n",
    "    list1 = [\"Hello \", \"take \"]\n",
    "    list2 = [\"Dear\", \"Sir\"]\n",
    "    \n",
    "Expected output:\n",
    "\n",
    "    ['Hello Dear', 'Hello Sir', 'take Dear', 'take Sir']"
   ]
  },
  {
   "cell_type": "markdown",
   "metadata": {},
   "source": [
    "#### 3. Iterate both lists simultaneously\n",
    "Given a two Python list. Write a program to iterate both lists simultaneously and display items from list1 in original order and items from list2 in reverse order.\n",
    "\n",
    "Given\n",
    "\n",
    "    list1 = [10, 20, 30, 40]\n",
    "    list2 = [100, 200, 300, 400]\n",
    "    \n",
    "Expected output:\n",
    "\n",
    "    10 400\n",
    "    20 300\n",
    "    30 200\n",
    "    40 100"
   ]
  },
  {
   "cell_type": "markdown",
   "metadata": {},
   "source": [
    "#### 4. Add new item to list after a specified item\n",
    "Write a program to add item **7000** after **6000** in the following Python List\n",
    "\n",
    "Given:\n",
    "\n",
    "    list1 = [10, 20, [300, 400, [5000, 6000], 500], 30, 40]\n",
    "\n",
    "Expected output:\n",
    "\n",
    "    [10, 20, [300, 400, [5000, 6000, 7000], 500], 30, 40]"
   ]
  },
  {
   "cell_type": "markdown",
   "metadata": {},
   "source": [
    "#### 5. Replace list’s item with new value if found\n",
    "You have given a Python list. Write a program to find value **20** in the list, and if it is present, replace it with **200**. Only update the first occurrence of an item.\n",
    "\n",
    "Given:\n",
    "\n",
    "    list1 = [5, 10, 15, 20, 25, 50, 20]\n",
    "\n",
    "Expected output:\n",
    "\n",
    "    [5, 10, 15, 200, 25, 50, 20]"
   ]
  },
  {
   "cell_type": "markdown",
   "metadata": {},
   "source": [
    "#### 6. Remove all occurrences of a specific item from a list.\n",
    "Given a Python list, write a program to remove all occurrences of item **20**.\n",
    "\n",
    "Given:\n",
    "\n",
    "    list1 = [5, 20, 15, 20, 25, 50, 20]\n",
    "\n",
    "Expected output:\n",
    "\n",
    "    [5, 15, 25, 50]"
   ]
  },
  {
   "cell_type": "markdown",
   "metadata": {},
   "source": [
    "#### 7. Convert two lists into a dictionary\n",
    "Below are the two lists. Write a Python program to convert them into a dictionary in a way that item from list1 is the key and item from list2 is the value\n",
    "\n",
    "    keys = ['Ten', 'Twenty', 'Thirty']\n",
    "    values = [10, 20, 30]\n",
    "    \n",
    "Expected output:\n",
    "\n",
    "    {'Ten': 10, 'Twenty': 20, 'Thirty': 30}"
   ]
  },
  {
   "cell_type": "markdown",
   "metadata": {},
   "source": [
    "#### 8. Merge two Python dictionaries into one\n",
    "    dict1 = {'Ten': 10, 'Twenty': 20, 'Thirty': 30}\n",
    "    dict2 = {'Thirty': 30, 'Fourty': 40, 'Fifty': 50}\n",
    "\n",
    "Expected output:\n",
    "\n",
    "    {'Ten': 10, 'Twenty': 20, 'Thirty': 30, 'Fourty': 40, 'Fifty': 50}\n"
   ]
  },
  {
   "cell_type": "markdown",
   "metadata": {},
   "source": [
    "#### 9.  Print the value of key ‘history’ from the below dict\n",
    "    sampleDict = {\n",
    "        \"class\": {\n",
    "            \"student\": {\n",
    "                \"name\": \"Mike\",\n",
    "                \"marks\": {\n",
    "                    \"physics\": 70,\n",
    "                    \"history\": 80\n",
    "                }\n",
    "            }\n",
    "        }\n",
    "    }\n",
    "\n",
    "Expected output:\n",
    "\n",
    "    80"
   ]
  },
  {
   "cell_type": "markdown",
   "metadata": {},
   "source": [
    "#### 10. Delete a list of keys from a dictionary\n",
    "Given:\n",
    "\n",
    "    sample_dict = {\n",
    "        \"name\": \"Kelly\",\n",
    "        \"age\": 25,\n",
    "        \"salary\": 8000,\n",
    "        \"city\": \"New york\"\n",
    "    }\n",
    "\n",
    "    # Keys to remove\n",
    "    keys = [\"name\", \"salary\"]\n",
    "        \n",
    "Expected output:\n",
    "\n",
    "    {'city': 'New york', 'age': 25}"
   ]
  },
  {
   "cell_type": "markdown",
   "metadata": {},
   "source": [
    "#### 11. Get the key of a minimum value from the following dictionary\n",
    "    sample_dict = {\n",
    "      'Physics': 82,\n",
    "      'Math': 65,\n",
    "      'history': 75\n",
    "    }\n",
    "\n",
    "Expected output:\n",
    "\n",
    "    Math"
   ]
  },
  {
   "cell_type": "markdown",
   "metadata": {},
   "source": [
    "#### 12. Rename key of a dictionary\n",
    "Write a program to rename a key **city** to a **location** in the following dictionary.\n",
    "\n",
    "Given:\n",
    "\n",
    "    sample_dict = {\n",
    "      \"name\": \"Kelly\",\n",
    "      \"age\":25,\n",
    "      \"salary\": 8000,\n",
    "      \"city\": \"New york\"\n",
    "    }\n",
    "\n",
    "Expected output:\n",
    "\n",
    "    {'name': 'Kelly', 'age': 25, 'salary': 8000, 'location': 'New york'}"
   ]
  },
  {
   "cell_type": "code",
   "execution_count": null,
   "metadata": {},
   "outputs": [],
   "source": []
  }
 ],
 "metadata": {
  "kernelspec": {
   "display_name": "Python 3",
   "language": "python",
   "name": "python3"
  },
  "language_info": {
   "codemirror_mode": {
    "name": "ipython",
    "version": 3
   },
   "file_extension": ".py",
   "mimetype": "text/x-python",
   "name": "python",
   "nbconvert_exporter": "python",
   "pygments_lexer": "ipython3",
   "version": "3.8.5"
  }
 },
 "nbformat": 4,
 "nbformat_minor": 4
}
